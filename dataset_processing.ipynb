{
  "nbformat": 4,
  "nbformat_minor": 0,
  "metadata": {
    "colab": {
      "provenance": []
    },
    "kernelspec": {
      "name": "python3",
      "display_name": "Python 3"
    },
    "language_info": {
      "name": "python"
    }
  },
  "cells": [
    {
      "cell_type": "code",
      "execution_count": null,
      "metadata": {
        "id": "pyrM6aQYPX0N"
      },
      "outputs": [],
      "source": [
        "import pandas as pd\n",
        "import numpy as np\n"
      ]
    },
    {
      "cell_type": "code",
      "source": [
        "df=pd.read_excel(\"/content/20-05-2024_TextNorm.xlsx\")"
      ],
      "metadata": {
        "id": "dPg3xv8tPg0v"
      },
      "execution_count": null,
      "outputs": []
    },
    {
      "cell_type": "code",
      "source": [
        "#here i see that blood pressure column has string values and there is another column \"level of bp\"\n",
        "# so we can map the corresponding level which ranges from 0 to 4 to the blood pressure\n",
        "#sleep was in format yes or no i convert tht into hours by using the values of remaining columns\n",
        "#activity score column is also created using the remaining column values\n",
        "#the final dataset will have sleep hours,level of bp,heart rate,activity score,stress,anxiety,hypertension,depression,nonwell being\n",
        "#the columns bp,heart rate,activity can be collected from watch if the user wishes to share his watch details\n",
        "#we will create a model to predict accurately the stress anxiety hypertension depression nonwell being for the information\n",
        "#provided by user thro his watch and append these values to the conversation prompts of tht user while chatting with the llm\n",
        "#if we cannot access the watch details of user the llm will simply work based on the conversations.\n",
        "#we can use the chats to generate a final score for his mental state and if he is highly vulnerable to depression then we can alert him"
      ],
      "metadata": {
        "id": "-tdjzsJaT2zT"
      },
      "execution_count": null,
      "outputs": []
    },
    {
      "cell_type": "code",
      "source": [
        "'''\n",
        "Formula for Sleep Hours Calculation\n",
        "I estimated sleep hours based on the relationship between stress, anxiety, depression, and non-wellbeing, as these factors are known to impact sleep quality. A possible formula is:\n",
        "\n",
        "Sleep Hours=8.5−(0.5×Stress)−(0.4×Anxiety)−(0.6×Depression)−(0.3×Non-Wellbeing)\n",
        "Baseline sleep is assumed to be 8.5 hours, representing an ideal sleep duration.\n",
        "\n",
        "Each mental health factor (stress, anxiety, depression) reduces sleep by a certain fraction.\n",
        "\n",
        "Non-Wellbeing reduces sleep further, assuming a general health issue impact.\n",
        "\n",
        "To ensure sleep hours stay within a valid range:\n",
        "\n",
        "Sleep Hours=max(3,min(10,Sleep Hours))\n",
        "This keeps sleep in a reasonable range of 3 to 10 hours.\n",
        "\n",
        "Formula for Activity Score Calculation\n",
        "activity score based on factors like heart rate, BMI, smoking, and sleep:\n",
        "\n",
        "Activity Score=(0.3×Heart Rate)−(2×BMI Index)−(3×Smoking)+(2×Sleep Hours)\n",
        "Heart rate positively contributes to activity (higher heart rate → more active).\n",
        "\n",
        "BMI index negatively affects activity (higher BMI → lower movement).\n",
        "\n",
        "Smoking reduces activity level significantly.\n",
        "\n",
        "Sleep Hours positively contribute (better sleep → more energy).\n",
        "\n",
        "To normalize the values:\n",
        "\n",
        "Activity Score=max(0,min(100,Activity Score))\n",
        "'''"
      ],
      "metadata": {
        "id": "tY9gGwfzaeY4"
      },
      "execution_count": null,
      "outputs": []
    },
    {
      "cell_type": "code",
      "source": [
        "print(\"Blood Pressure Column Unique Values:\")\n",
        "print(df[\"Blood Pressure\"].unique())\n",
        "\n",
        "print(\"\\nLevel of BP Column Unique Values:\")\n",
        "print(df[\"Level of BP\"].unique())\n"
      ],
      "metadata": {
        "colab": {
          "base_uri": "https://localhost:8080/"
        },
        "id": "1ikP1-Q2TORw",
        "outputId": "5f9700b8-4700-4c42-ceff-5b45ec34ef42"
      },
      "execution_count": null,
      "outputs": [
        {
          "output_type": "stream",
          "name": "stdout",
          "text": [
            "Blood Pressure Column Unique Values:\n",
            "['Normal' 'High blood' 'Elevated' 'Hypertensive crisis']\n",
            "\n",
            "Level of BP Column Unique Values:\n",
            "[0 3 1 2 4]\n"
          ]
        }
      ]
    },
    {
      "cell_type": "code",
      "source": [
        "print(df[[\"Blood Pressure\", \"Level of BP\"]].drop_duplicates())\n"
      ],
      "metadata": {
        "colab": {
          "base_uri": "https://localhost:8080/"
        },
        "id": "Q-9hx4ulUamQ",
        "outputId": "edd4ad39-354b-4bff-8331-b40292e88fee"
      },
      "execution_count": null,
      "outputs": [
        {
          "output_type": "stream",
          "name": "stdout",
          "text": [
            "          Blood Pressure  Level of BP\n",
            "0                 Normal            0\n",
            "54            High blood            3\n",
            "62              Elevated            1\n",
            "206           High blood            2\n",
            "314  Hypertensive crisis            4\n"
          ]
        }
      ]
    },
    {
      "cell_type": "code",
      "source": [
        "import pandas as pd\n",
        "import numpy as np\n",
        "\n",
        "# Load dataset\n",
        "\n",
        "# Standardize column names (strip spaces & convert to lowercase)\n",
        "df.columns = df.columns.str.strip().str.lower()\n",
        "\n",
        "# Print actual column names to debug\n",
        "print(\"Columns in dataset:\", df.columns.tolist())\n",
        "\n",
        "# Convert 'smoking' column to numeric (Map \"Do not smoke\" to 0 and assume \"Smoke\" as 1)\n",
        "if 'smoking' in df.columns:\n",
        "    df['smoking'] = df['smoking'].apply(lambda x: 1 if 'smoke' in str(x).lower() and 'do not' not in str(x).lower() else 0)\n",
        "\n",
        "# Map Blood Pressure categories to numerical values\n",
        "bp_mapping = {\n",
        "    'normal': 0,\n",
        "    'elevated': 1,\n",
        "    'high blood': 2,\n",
        "    'hypertensive crisis': 3\n",
        "}\n",
        "df['level of bp'] = df['blood pressure'].str.lower().map(bp_mapping)\n",
        "\n",
        "# Ensure numerical values for processing\n",
        "for col in ['stress', 'anxiety', 'depression', 'heart rate', 'bmi_index', 'smoking', 'age']:\n",
        "    if col in df.columns:\n",
        "        df[col] = pd.to_numeric(df[col], errors='coerce').fillna(df[col].median())\n",
        "\n",
        "# Compute Sleep Hours (Based on Stress, Anxiety, and Depression levels)\n",
        "if {'stress', 'anxiety', 'depression'}.issubset(df.columns):\n",
        "    df['sleep hours'] = 8 - (df['stress'] * 0.3 + df['anxiety'] * 0.3 + df['depression'] * 0.4)\n",
        "\n",
        "# Clip sleep hours to a realistic range (4 to 10 hours)\n",
        "df['sleep hours'] = df['sleep hours'].clip(4, 10)\n",
        "\n",
        "# Compute Activity Score (Simulating Smartwatch Data)\n",
        "if {'heart rate', 'bmi_index', 'age'}.issubset(df.columns):\n",
        "    df['activity score'] = (\n",
        "        (df['heart rate'] / df['heart rate'].max()) * 50 +\n",
        "        (1 / (df['bmi_index'] + 1)) * 30 +\n",
        "        (1 / (df['age'] + 1)) * 20\n",
        "    ).round(2)\n",
        "\n",
        "# Normalize Activity Score to range (0 - 100)\n",
        "df['activity score'] = (df['activity score'] - df['activity score'].min()) / \\\n",
        "                       (df['activity score'].max() - df['activity score'].min()) * 100\n",
        "\n",
        "# Select required columns\n",
        "df = df[['sleep hours', 'activity score', 'level of bp', 'heart rate', 'stress', 'anxiety', 'depression', 'hypertension', 'non-wellbeing']]\n",
        "\n",
        "# Save updated dataset\n",
        "df.to_excel('processed_dataset.xlsx', index=False)\n",
        "\n",
        "# Show final dataset preview\n",
        "print(df.head())\n"
      ],
      "metadata": {
        "colab": {
          "base_uri": "https://localhost:8080/"
        },
        "id": "kUHW_Ay5P4mb",
        "outputId": "02dbaa76-923e-40de-e8c8-a2eb3e72a359"
      },
      "execution_count": null,
      "outputs": [
        {
          "output_type": "stream",
          "name": "stdout",
          "text": [
            "Columns in dataset: ['type of data', 'patient_id', 'kv100', 'm', 'δ', 't', 'a365', 'a460', 'anadn', 'pom', 'ae', 'an', 'am', 'ar', 'ac', 'f_ae', 'f_an', 'f_am', 'f_ar', 'f_ac', 'ethnicity', 'left or right', 'sleep', 'gender', 'race', 'type of skins', 'age', 'weight', 'height', 'bmi_index', 'smoking', 'number of cigarettes per week if smoked:', 'disease', 'blood pressure', 'level of bp', 'heart rate', 'dass_21', 'stress', 'anxiety', 'depression', 'hypertension', 'non-wellbeing', 'sleep hours']\n",
            "   sleep hours  activity score  level of bp  heart rate  stress  anxiety  \\\n",
            "0          8.0       62.080130            0        95.0       0        0   \n",
            "1          8.0       62.080130            0        95.0       0        0   \n",
            "2          8.0       62.080130            0        95.0       0        0   \n",
            "3          8.0       62.080130            0        95.0       0        0   \n",
            "4          8.0       18.494537            0        70.0       0        0   \n",
            "\n",
            "   depression  hypertension  non-wellbeing  \n",
            "0           0             0              0  \n",
            "1           0             0              0  \n",
            "2           0             0              0  \n",
            "3           0             0              0  \n",
            "4           0             0              0  \n"
          ]
        }
      ]
    },
    {
      "cell_type": "code",
      "source": [
        "# List of columns to check\n",
        "#values 0 to 4 indicate zero,mild,moderate,severe,extremely severe\n",
        "#values 0 and 1 for hyoertension and non wellbeign just indicate yes or no\n",
        "cols_to_check = ['stress', 'anxiety', 'depression', 'hypertension', 'non-wellbeing']\n",
        "\n",
        "# Print unique values for each column\n",
        "for col in cols_to_check:\n",
        "    if col in df.columns:\n",
        "        print(f\"Unique values in '{col}': {df[col].unique()}\")\n"
      ],
      "metadata": {
        "colab": {
          "base_uri": "https://localhost:8080/"
        },
        "id": "r4im_QQ2RmmV",
        "outputId": "7c31ff09-d398-488e-b6f7-dc89bbb089ee"
      },
      "execution_count": null,
      "outputs": [
        {
          "output_type": "stream",
          "name": "stdout",
          "text": [
            "Unique values in 'stress': [0 1 2 3]\n",
            "Unique values in 'anxiety': [0 2 4 1 3]\n",
            "Unique values in 'depression': [0 2 3 1 4]\n",
            "Unique values in 'hypertension': [0 1]\n",
            "Unique values in 'non-wellbeing': [0 1]\n"
          ]
        }
      ]
    },
    {
      "cell_type": "code",
      "source": [],
      "metadata": {
        "id": "ylgK9FX8P6Y9"
      },
      "execution_count": null,
      "outputs": []
    }
  ]
}